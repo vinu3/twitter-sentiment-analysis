{
 "cells": [
  {
   "cell_type": "code",
   "execution_count": 23,
   "metadata": {},
   "outputs": [],
   "source": [
    "import tweepy\n",
    "from textblob import TextBlob\n",
    "\n",
    "consumer_key = 'e6VefYZnyViVHdsD605FKjCEJ'\n",
    "consumer_secret = 'oc2qxBbKJP8HUEC9989F1awRZDiIVsUua0KvruvZbHeCFIZFNu'\n",
    "\n",
    "access_token = '850833613-R1ZITi5zjc6fk2fXuWcGHWNMF13CwIpBPVqXIv8s'\n",
    "access_token_secret = 'XKrAG5J2rGwdOleplbesv5JIsbZeDqca5kavSPQ1YH18m'\n",
    "\n",
    "auth =  tweepy.OAuthHandler(consumer_key,consumer_secret)"
   ]
  },
  {
   "cell_type": "code",
   "execution_count": 24,
   "metadata": {},
   "outputs": [],
   "source": [
    "auth.set_access_token(access_token,access_token_secret)"
   ]
  },
  {
   "cell_type": "code",
   "execution_count": 25,
   "metadata": {},
   "outputs": [],
   "source": [
    "api = tweepy.API(auth)"
   ]
  },
  {
   "cell_type": "code",
   "execution_count": 26,
   "metadata": {},
   "outputs": [
    {
     "data": {
      "text/plain": [
       "15"
      ]
     },
     "execution_count": 26,
     "metadata": {},
     "output_type": "execute_result"
    }
   ],
   "source": [
    "public_tweets = api.search('mahesh')\n",
    "\n",
    "public_tweets.count\n",
    "\n"
   ]
  },
  {
   "cell_type": "code",
   "execution_count": 27,
   "metadata": {},
   "outputs": [
    {
     "name": "stdout",
     "output_type": "stream",
     "text": [
      "Pornography https://t.co/EXXBy51F2Z\n",
      "Sentiment(polarity=0.0, subjectivity=0.0)\n",
      "0.0\n",
      "0.0\n",
      "0 x 0 y 0\n",
      "RT @behindwoods: Sema: This Big Superstar now praises 2.0\n",
      "#Rajinikanth #2Point0\n",
      "https://t.co/Qw3RSnd7Fe\n",
      "Sentiment(polarity=0.0, subjectivity=0.1)\n",
      "0.0\n",
      "0.1\n",
      "1 x 10 y 0\n",
      "@garcia_1337 @EnterTheRodeo @RodeoTheAlbum It’s summer time why they tryna throw shade\n",
      "Sentiment(polarity=0.0, subjectivity=0.0)\n",
      "0.0\n",
      "0.0\n",
      "2 x 0 y 0\n",
      "@LuisZ713 @RodeoTheAlbum Did we just become best friends https://t.co/3gEQfVI0aR\n",
      "Sentiment(polarity=1.0, subjectivity=0.3)\n",
      "1.0\n",
      "0.3\n",
      "3 x 30 y 100\n",
      "RT @shankarshanmugh: Thanks Mahesh garu. Wish you and your family a very happy Diwali https://t.co/fiTB1otVRE\n",
      "Sentiment(polarity=0.6, subjectivity=0.6)\n",
      "0.6\n",
      "0.6\n",
      "4 x 60 y 60\n",
      "@narmadeshwa2053 @hela_hell @Mukesh75928492 @norse_codedelta @sshubh2 @sanjeev1_ @mahesh_mishraji @navneet0018… https://t.co/NTFe4HSDQU\n",
      "Sentiment(polarity=0.0, subjectivity=0.0)\n",
      "0.0\n",
      "0.0\n",
      "5 x 0 y 0\n",
      "Hey Mahesh Narayanan thanks for the follow! #Gratitude #Thanks\n",
      "Sentiment(polarity=0.225, subjectivity=0.2)\n",
      "0.225\n",
      "0.2\n",
      "6 x 20 y 22\n",
      "Life was good when Lil Baby dropped Yes Indeed.\n",
      "Sentiment(polarity=0.7, subjectivity=0.6000000000000001)\n",
      "0.7\n",
      "0.6000000000000001\n",
      "7 x 60 y 70\n",
      "RT @MukhiSree: You should be your own source of happiness! ☺️❤️ https://t.co/NBaAXVa4Ji\n",
      "Sentiment(polarity=0.7375, subjectivity=0.6)\n",
      "0.7375\n",
      "0.6\n",
      "8 x 60 y 73\n",
      "RT @Jilebi_X: @RacchaRidhvik Ok 😊😊 https://t.co/4vWfCxVI3f\n",
      "Sentiment(polarity=0.5, subjectivity=0.5)\n",
      "0.5\n",
      "0.5\n",
      "9 x 50 y 50\n",
      "RT @Saketh_PSPK: సంక్రాంతి రికార్డుల కోతకి తొలి అడుగు రేపే...🕺🕺\n",
      "\n",
      "#RC12FirstLookTomorrow\n",
      "#Ramcharan @DVVMovies @ThisIsDSP 💓 \n",
      "@Advani_Kiara 😍…\n",
      "Sentiment(polarity=0.0, subjectivity=0.0)\n",
      "0.0\n",
      "0.0\n",
      "10 x 0 y 0\n",
      "RT @Thugwala: prakruthini disturb cheste parinamalu thivramga vuntai\n",
      "\n",
      "https://t.co/ugXvSXcqnX https://t.co/qz8fJwJCFm\n",
      "Sentiment(polarity=0.0, subjectivity=0.0)\n",
      "0.0\n",
      "0.0\n",
      "11 x 0 y 0\n",
      "RT @SaipallaviFC: #SarkarFromTomorrow All the best @actorvijay Sir For #Sarkar Movie Best Wishes From @Sai_Pallavi92 Fans\n",
      "\n",
      "Beware Box-offic…\n",
      "Sentiment(polarity=1.0, subjectivity=0.3)\n",
      "1.0\n",
      "0.3\n",
      "12 x 30 y 100\n",
      "RT @BeingCULT: ధర్మ పోరాటాల్లో భాగంగా ధర్మంగా మందు పంపిణీ 👌\n",
      "\n",
      "కదలిరండి తెలుగుదేశ కార్యకర్తలారా \n",
      "\n",
      "@ncbn @naralokesh @JaiTDP https://t.co/3Ixm…\n",
      "Sentiment(polarity=0.0, subjectivity=0.0)\n",
      "0.0\n",
      "0.0\n",
      "13 x 0 y 0\n",
      "RT @kitucoolpk: పవన్ కళ్యాణ్ స్టేజ్ ఎక్కి మాట్లాడే టైంలో కరెంట్ తీసేయడం,వంతాడ మైనింగ్ ఏరియా కి వస్తున్నాడని తెలిసి అక్కడి రోడ్డు బ్లాక్ చే…\n",
      "Sentiment(polarity=0.0, subjectivity=0.0)\n",
      "0.0\n",
      "0.0\n",
      "14 x 0 y 0\n"
     ]
    }
   ],
   "source": [
    "import array\n",
    "import numpy as np\n",
    "\n",
    "x=np.tile(0,public_tweets.count)\n",
    "y=np.tile(0,public_tweets.count)\n",
    "\n",
    "twtcount = 0\n",
    "\n",
    "for tweet in public_tweets:\n",
    "    print(tweet.text)\n",
    "    analysis = TextBlob(tweet.text)\n",
    "    print(analysis.sentiment)\n",
    "    print(analysis.sentiment.polarity)\n",
    "    print(analysis.sentiment.subjectivity)\n",
    "    x[twtcount] = (analysis.sentiment.subjectivity)*100\n",
    "    y[twtcount] = (analysis.sentiment.polarity)*100\n",
    "    print(twtcount,'x',x[twtcount],'y',y[twtcount])\n",
    "    twtcount = twtcount +1\n",
    "    \n",
    "    \n",
    "    "
   ]
  },
  {
   "cell_type": "code",
   "execution_count": 28,
   "metadata": {},
   "outputs": [
    {
     "data": {
      "text/plain": [
       "<matplotlib.collections.PathCollection at 0x2250920e3c8>"
      ]
     },
     "execution_count": 28,
     "metadata": {},
     "output_type": "execute_result"
    },
    {
     "data": {
      "image/png": "[encoded data removed]",
      "text/plain": [
       "<Figure size 432x288 with 1 Axes>"
      ]
     },
     "metadata": {},
     "output_type": "display_data"
    }
   ],
   "source": [
    "#polarity   => neutrality vs positivity vs negativity\n",
    "#subjectivity => how many percennt of fwords are read\n",
    "\n",
    "\n",
    "\n",
    "import matplotlib.pyplot as plt\n",
    "\n",
    "#x subjectitvity \n",
    "#y polarity\n",
    "\n",
    "plt.scatter(x,y)\n",
    "\n",
    "\n",
    "\n"
   ]
  },
  {
   "cell_type": "code",
   "execution_count": null,
   "metadata": {},
   "outputs": [],
   "source": []
  },
  {
   "cell_type": "code",
   "execution_count": null,
   "metadata": {},
   "outputs": [],
   "source": []
  },
  {
   "cell_type": "code",
   "execution_count": null,
   "metadata": {},
   "outputs": [],
   "source": []
  },
  {
   "cell_type": "code",
   "execution_count": null,
   "metadata": {},
   "outputs": [],
   "source": []
  },
  {
   "cell_type": "code",
   "execution_count": null,
   "metadata": {},
   "outputs": [],
   "source": []
  }
 ],
 "metadata": {
  "kernelspec": {
   "display_name": "Python 3",
   "language": "python",
   "name": "python3"
  },
  "language_info": {
   "codemirror_mode": {
    "name": "ipython",
    "version": 3
   },
   "file_extension": ".py",
   "mimetype": "text/x-python",
   "name": "python",
   "nbconvert_exporter": "python",
   "pygments_lexer": "ipython3",
   "version": "3.6.6"
  }
 },
 "nbformat": 4,
 "nbformat_minor": 2
}
